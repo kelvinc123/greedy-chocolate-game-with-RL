{
 "cells": [
  {
   "cell_type": "markdown",
   "metadata": {},
   "source": [
    "# <center> Training Greedy Chocolate Agent </center>"
   ]
  },
  {
   "cell_type": "markdown",
   "metadata": {},
   "source": [
    "<center> We are going to train tabular reinforcement learning agents for the greedy chocolate game. <center>\n",
    "\n",
    "<br><br>\n",
    "  \n",
    "<img src=\"img/img_chocolates.jpeg\" alt=\"Chocolates pic.\" width=\"160\" height=\"200\">\n",
    "    \n",
    "<br><br>\n",
    "Game rules:\n",
    "\n",
    "Given some boxes of chocolates. Each turn a player must pick a box and take at least one chocolate in that boxes. Player can't take chocolate more than the amount of chocolate in a chosen box. Whenever pick the last chocolate is greedy (losing the game)."
   ]
  },
  {
   "cell_type": "markdown",
   "metadata": {},
   "source": [
    "# Table of Content\n",
    "1. [Load Packages and Data](#step1)\n",
    "2. [Initialize game and Trainer](#step2)\n",
    "3. [Initialize Agent](#step3)\n",
    "4. [Training QLearning Agent](#step4)\n",
    " - [Train Q Agent vs Random Agent](#step4a)\n",
    " - [Training Result](#step4b)\n",
    " - [Play Strategy](#step4c)\n",
    "5. [Training Other Agent](#step5)\n",
    " - [Train Expected Sarsa Agent vs Random Agent](#step5a)\n",
    " - [Training Result](#step5b)\n",
    "6. [Self Play](#step6)\n",
    " - [Train Self Play Agent](#step6a)\n",
    " - [Training Result](#step6b)\n",
    "7. [Learn Agent's Strategy](#step7)\n",
    " - [Value Function](#step7a)\n",
    " - [Losing State Analysis](#step7b)"
   ]
  },
  {
   "cell_type": "markdown",
   "metadata": {},
   "source": [
    "## 1. Load Packages<a name=step1></a>"
   ]
  },
  {
   "cell_type": "code",
   "execution_count": 1,
   "metadata": {},
   "outputs": [],
   "source": [
    "# Import libraries\n",
    "import os\n",
    "import time\n",
    "import numpy as np\n",
    "import matplotlib.pyplot as plt\n",
    "import pandas as pd\n",
    "\n",
    "# Game environment\n",
    "from environment import Environment\n",
    "\n",
    "# Tabular RL Agent\n",
    "from agent.base_agent import RandomAgent\n",
    "from agent.td_agent import QLearningAgent\n",
    "from agent.td_agent import ExpectedSarsaAgent\n",
    "\n",
    "# Training method for two player game\n",
    "from trainer import TwoPlayerGameTrainer"
   ]
  },
  {
   "cell_type": "markdown",
   "metadata": {},
   "source": [
    "## 2. Initialize game and Trainer<a name=step2></a>"
   ]
  },
  {
   "cell_type": "markdown",
   "metadata": {},
   "source": [
    "First of all, we need to set the environment and the trainer. The environment.py script contains the simulated environment that is similar to OpenAI environment. The **TwoPlayerGameTrainer** contains several methods for training two player game. \n",
    "\n",
    "We'll be using 3 boxes of chocolates with a random number of chocolates between 3 to 20."
   ]
  },
  {
   "cell_type": "code",
   "execution_count": 2,
   "metadata": {},
   "outputs": [],
   "source": [
    "# Game parameter, 3 section is recommended\n",
    "BOXES = 3\n",
    "MAX_CHOCOLATE = 20\n",
    "MIN_CHOCOLATE = 3\n",
    "\n",
    "# Setting up the game environment and trainer\n",
    "env = Environment(SECTION=BOXES, MAX_CHOCOLATE=MAX_CHOCOLATE, MIN_CHOCOLATE=MIN_CHOCOLATE)\n",
    "trainer = TwoPlayerGameTrainer()"
   ]
  },
  {
   "cell_type": "code",
   "execution_count": 3,
   "metadata": {
    "scrolled": true
   },
   "outputs": [
    {
     "name": "stdout",
     "output_type": "stream",
     "text": [
      "\n",
      "\n",
      "================================================================\n",
      "\n",
      "Welcome to greedy test game!\n",
      "\n",
      "\n",
      "People avoid taking the last chocolate because\n",
      "it's a sign of greediness.\n",
      "\n",
      "You can take any chocolates in a box\n",
      "(as long as it's sufficient).\n",
      "\n",
      "Just don't be the person to take the last chocolate!\n",
      "\n",
      "================================================================\n"
     ]
    }
   ],
   "source": [
    "env.game.print_init()"
   ]
  },
  {
   "cell_type": "markdown",
   "metadata": {},
   "source": [
    "## 3. Initialize Agent<a name=step3></a>"
   ]
  },
  {
   "cell_type": "markdown",
   "metadata": {},
   "source": [
    "To train an agent in a zero sum game setting, we have to fix one agent (no training), so that our environment doesn't change. We also initialize QLearning agent with learning rate $(\\alpha)$ of 0.05 and $\\epsilon$=0.3. In this game, we set discount rate ($\\gamma$) = 1."
   ]
  },
  {
   "cell_type": "code",
   "execution_count": 4,
   "metadata": {},
   "outputs": [],
   "source": [
    "# Fixed random agent\n",
    "agent_random = RandomAgent()\n",
    "\n",
    "# QLearning Agent\n",
    "agent_q = QLearningAgent(alpha=0.05, epsilon=0.4, discount=1)"
   ]
  },
  {
   "cell_type": "markdown",
   "metadata": {},
   "source": [
    "## 4. Train QLearning Agent<a name=step4></a>"
   ]
  },
  {
   "cell_type": "markdown",
   "metadata": {},
   "source": [
    "### Training Q Agent vs Random Agent<a name=step4a></a>"
   ]
  },
  {
   "cell_type": "markdown",
   "metadata": {},
   "source": [
    "The function to train the agent has been implemented on trainer.py script. \n",
    "\n",
    "We want to use *play_and_train* in **TwoPlayerGameTrainer** class. It has the following arguments:\n",
    "\n",
    " * env -> game environment\n",
    " * agent1 -> agent that will learn\n",
    " * agent2 -> fixed agent that will be considered as environment\n",
    " * n_games -> number of games to play/train\n",
    " * learn -> indicates whether agent1 is training or just evaluating\n",
    " * verbose -> to print the output\n",
    " \n",
    "The method will set the learning mode of agent2 off and play n_games games with agent1 while training agent1.\n",
    "\n",
    "QLearning uses the following update rule for the q value:\n",
    "\n",
    "> $$Q(S, A) = Q(S, A) + \\alpha[R + \\gamma max_{a}Q(S', a) - Q(S, A)]$$"
   ]
  },
  {
   "cell_type": "code",
   "execution_count": 5,
   "metadata": {},
   "outputs": [
    {
     "name": "stdout",
     "output_type": "stream",
     "text": [
      "Running game: 20000\n",
      "Done!\n"
     ]
    }
   ],
   "source": [
    "history, win_rate = trainer.play_and_train(env, agent_q, agent_random, n_games = 20000, learn=True)"
   ]
  },
  {
   "cell_type": "markdown",
   "metadata": {},
   "source": [
    "### Q Agent Training Result<a name=step4b></a>"
   ]
  },
  {
   "cell_type": "markdown",
   "metadata": {},
   "source": [
    "It is interesting to see how the training went. The variable history contains an array with length 20000. Each element represents the game result, +1 if agent_q wins, -1 otherwise. We can calculate the cumulative sum and make a plot to understand the training process"
   ]
  },
  {
   "cell_type": "code",
   "execution_count": 6,
   "metadata": {},
   "outputs": [
    {
     "data": {
      "image/png": "[encoded data removed]",
      "text/plain": [
       "<Figure size 600x400 with 1 Axes>"
      ]
     },
     "metadata": {},
     "output_type": "display_data"
    }
   ],
   "source": [
    "history_cumsum = np.cumsum(history)\n",
    "\n",
    "fig, ax = plt.subplots(1, 1, figsize=(6,4))\n",
    "_ = ax.plot(history_cumsum)\n",
    "_ = ax.set_title(\"Game result\")\n",
    "plt.show()"
   ]
  },
  {
   "cell_type": "markdown",
   "metadata": {},
   "source": [
    "It seems our agent learns well even though it still on the learning mode. Let's set the learning mode off and calculate the winning rate.\n",
    "\n",
    "**Note:** Setting the learning mode off will behaves greedily, since it removes exploration factor"
   ]
  },
  {
   "cell_type": "code",
   "execution_count": 7,
   "metadata": {},
   "outputs": [
    {
     "name": "stdout",
     "output_type": "stream",
     "text": [
      "Running game: 2000\n",
      "Done!\n",
      "\n",
      "\n",
      "Win rate: 0.904\n"
     ]
    }
   ],
   "source": [
    "_, win_rate = trainer.play_and_train(env, agent_q, agent_random, n_games = 2000, learn=False)\n",
    "\n",
    "print(f\"\\n\\nWin rate: {win_rate}\")"
   ]
  },
  {
   "cell_type": "markdown",
   "metadata": {},
   "source": [
    "Awesome, now we can save the model. We use **defaultdict** as our data structure to save q table. Each agent is equipped with *save_model* and *load_model* methods. We'll use .npy format. \n",
    "\n",
    "Naming convention: \"agentName_vs_opponentName_section_MinChocolate_MaxChocolate.npy\""
   ]
  },
  {
   "cell_type": "code",
   "execution_count": 8,
   "metadata": {},
   "outputs": [],
   "source": [
    "agent_q.save_model(os.path.join(\"model\", \"qagent_vs_random_3_3_20.npy\"))"
   ]
  },
  {
   "cell_type": "markdown",
   "metadata": {},
   "source": [
    "### View Play Strategy<a name=step4c></a>"
   ]
  },
  {
   "cell_type": "markdown",
   "metadata": {},
   "source": [
    "To view the actual play, we can use play method in TwoPlayerGameTrainer class"
   ]
  },
  {
   "cell_type": "code",
   "execution_count": 9,
   "metadata": {
    "scrolled": false
   },
   "outputs": [
    {
     "name": "stdout",
     "output_type": "stream",
     "text": [
      "\n",
      "----------------------------------------------------------------\n",
      "\n",
      "\n",
      "Chocolate box:\n",
      "\n",
      "Box 1: 4\n",
      "Box 2: 11\n",
      "Box 3: 4\n",
      "\n",
      "Player 1: take 10 chocolates from box 2...\n",
      "\n",
      "----------------------------------------------------------------\n",
      "\n",
      "\n",
      "Chocolate box:\n",
      "\n",
      "Box 1: 4\n",
      "Box 2: 1\n",
      "Box 3: 4\n",
      "\n",
      "Player 2: take 1 chocolates from box 1...\n",
      "\n",
      "----------------------------------------------------------------\n",
      "\n",
      "\n",
      "Chocolate box:\n",
      "\n",
      "Box 1: 3\n",
      "Box 2: 1\n",
      "Box 3: 4\n",
      "\n",
      "Player 1: take 2 chocolates from box 3...\n",
      "\n",
      "----------------------------------------------------------------\n",
      "\n",
      "\n",
      "Chocolate box:\n",
      "\n",
      "Box 1: 3\n",
      "Box 2: 1\n",
      "Box 3: 2\n",
      "\n",
      "Player 2: take 1 chocolates from box 2...\n",
      "\n",
      "----------------------------------------------------------------\n",
      "\n",
      "\n",
      "Chocolate box:\n",
      "\n",
      "Box 1: 3\n",
      "Box 2: 0\n",
      "Box 3: 2\n",
      "\n",
      "Player 1: take 1 chocolates from box 1...\n",
      "\n",
      "----------------------------------------------------------------\n",
      "\n",
      "\n",
      "Chocolate box:\n",
      "\n",
      "Box 1: 2\n",
      "Box 2: 0\n",
      "Box 3: 2\n",
      "\n",
      "Player 2: take 2 chocolates from box 1...\n",
      "\n",
      "----------------------------------------------------------------\n",
      "\n",
      "\n",
      "Chocolate box:\n",
      "\n",
      "Box 1: 0\n",
      "Box 2: 0\n",
      "Box 3: 2\n",
      "\n",
      "Player 1: take 1 chocolates from box 3...\n",
      "\n",
      "----------------------------------------------------------------\n",
      "\n",
      "\n",
      "Chocolate box:\n",
      "\n",
      "Box 1: 0\n",
      "Box 2: 0\n",
      "Box 3: 1\n",
      "\n",
      "Player 2: take 1 chocolates from box 3...\n",
      "\n",
      "Player 2 take the last chocolate!\n",
      "Player 2 is greedy :(\n"
     ]
    }
   ],
   "source": [
    "_ = trainer.play(env, agent_q, agent_random, reset=True, verbose=True)"
   ]
  },
  {
   "cell_type": "markdown",
   "metadata": {},
   "source": [
    "## 5. Train Other Agent<a name=step5></a>"
   ]
  },
  {
   "cell_type": "markdown",
   "metadata": {},
   "source": [
    "### Train Expected Sarsa Agent<a name=step5a></a>"
   ]
  },
  {
   "cell_type": "markdown",
   "metadata": {},
   "source": [
    "At this moment, we can freely pick any agent with its opponents for training purposes. Let's say we want to train ExpectedSarsa Agent vs our previous trained Q Agent. Setting the agent2 argument as *agent_q* will set its learning mode off. Therefore it omits the exploration behaviour."
   ]
  },
  {
   "cell_type": "code",
   "execution_count": 10,
   "metadata": {},
   "outputs": [],
   "source": [
    "agent_ESarsa = ExpectedSarsaAgent(alpha=0.05, epsilon=0.2, discount=1)"
   ]
  },
  {
   "cell_type": "code",
   "execution_count": 11,
   "metadata": {},
   "outputs": [
    {
     "name": "stdout",
     "output_type": "stream",
     "text": [
      "Running game: 20000\n",
      "Done!\n"
     ]
    }
   ],
   "source": [
    "history, _ = trainer.play_and_train(env, agent_ESarsa, agent_q, n_games = 20000, learn=True)"
   ]
  },
  {
   "cell_type": "markdown",
   "metadata": {},
   "source": [
    "### View Training Result<a name=step5b></a>"
   ]
  },
  {
   "cell_type": "code",
   "execution_count": 12,
   "metadata": {},
   "outputs": [
    {
     "data": {
      "image/png": "[encoded data removed]",
      "text/plain": [
       "<Figure size 600x400 with 1 Axes>"
      ]
     },
     "metadata": {},
     "output_type": "display_data"
    }
   ],
   "source": [
    "history_cumsum = np.cumsum(history)\n",
    "fig, ax = plt.subplots(1, 1, figsize=(6,4))\n",
    "_ = ax.plot(history_cumsum)\n",
    "_ = ax.set_title(\"Game result\")\n",
    "plt.show()"
   ]
  },
  {
   "cell_type": "markdown",
   "metadata": {},
   "source": [
    "At first, the ESarsa Agent keeps losing because Q Agent behaves optimally. As the training goes, the ESarsa Agent improves and keep winning."
   ]
  },
  {
   "cell_type": "code",
   "execution_count": 13,
   "metadata": {},
   "outputs": [
    {
     "name": "stdout",
     "output_type": "stream",
     "text": [
      "\n",
      "Done!\n",
      "Win rate for ESarsa Agent: 1.0\n"
     ]
    }
   ],
   "source": [
    "_, win_rate = trainer.play_and_train(env, agent_ESarsa, agent_q, n_games = 20000, learn=False, verbose=False)\n",
    "print(f\"Win rate for ESarsa Agent: {win_rate}\")"
   ]
  },
  {
   "cell_type": "markdown",
   "metadata": {},
   "source": [
    "The question of interest is: \"If we keep doing this over and over again, does the agent becomes better?\""
   ]
  },
  {
   "cell_type": "markdown",
   "metadata": {},
   "source": [
    "## 6. Self Play<a name=step6></a>"
   ]
  },
  {
   "cell_type": "markdown",
   "metadata": {},
   "source": [
    "### Train Self Play Agent<a name=step6a></a>"
   ]
  },
  {
   "cell_type": "markdown",
   "metadata": {},
   "source": [
    "Many reinforcement learning on a competitive game implement self play algorithm. Self play trains the agent to play against itself and keep improving its behaviour.\n",
    "\n",
    "The *selfplay* method is implemented on **TwoPlayerGameTrainer** class.\n",
    "\n",
    "\n",
    "Algorithm: \n",
    " 1. Turn on agent's learning mode\n",
    " 2. Make a copy of the agent as old_agent\n",
    " 3. Set old_agent learning mode off\n",
    " 4. Train against itself using play_and_train method by setting agent1=agent and agent2=old_agent\n",
    " 5. Go back to number 2 until stopping criteria is met\n",
    " \n",
    "Let's initialize QLearningAgent and train using self play!"
   ]
  },
  {
   "cell_type": "code",
   "execution_count": 14,
   "metadata": {},
   "outputs": [],
   "source": [
    "agent_selfplay = QLearningAgent(alpha=0.05, epsilon=0.4, discount=1)"
   ]
  },
  {
   "cell_type": "code",
   "execution_count": 15,
   "metadata": {},
   "outputs": [
    {
     "data": {
      "text/plain": [
       "<Figure size 640x480 with 0 Axes>"
      ]
     },
     "metadata": {},
     "output_type": "display_data"
    },
    {
     "data": {
      "text/plain": [
       "<Figure size 640x480 with 0 Axes>"
      ]
     },
     "metadata": {},
     "output_type": "display_data"
    },
    {
     "data": {
      "image/png": "[encoded data removed]",
      "text/plain": [
       "<Figure size 480x320 with 1 Axes>"
      ]
     },
     "metadata": {},
     "output_type": "display_data"
    }
   ],
   "source": [
    "start_time = time.time()\n",
    "agent_selfplay, _ = TwoPlayerGameTrainer.self_play(\n",
    "    env, agent_selfplay, n_games=25000, iteration=100, plot_output=True\n",
    ")\n",
    "time_delta = time.time() - start_time"
   ]
  },
  {
   "cell_type": "code",
   "execution_count": 16,
   "metadata": {},
   "outputs": [
    {
     "name": "stdout",
     "output_type": "stream",
     "text": [
      "Time elapsed: 23.0 minutes and 17.283 seconds\n"
     ]
    }
   ],
   "source": [
    "print(f\"Time elapsed: {time_delta // 60} minutes and {round(time_delta % 60, 3)} seconds\")"
   ]
  },
  {
   "cell_type": "markdown",
   "metadata": {},
   "source": [
    "Several observations:\n",
    " 1. The win rate of agent against the previous version of itself is bad\n",
    " 2. The win rate keeps decreasing\n",
    " \n",
    "During training, the previous version of the agent is set to behaves optimally (learning mode off) whereas the agent needs to balance the exploration and exploitation (learning mode on). Setting the learning mode off is the same as turning off the epsilon when taking an action, so the agent will always take the best action on any given state.\n",
    "\n",
    "Also, the agent is getting better over time. By playing with itself with learning mode on (taking random action with probability $\\epsilon$), the number of wins will decrease over time."
   ]
  },
  {
   "cell_type": "code",
   "execution_count": 17,
   "metadata": {},
   "outputs": [],
   "source": [
    "agent_selfplay.save_model(os.path.join(\"model\", \"qagent_self_play_3_20_20.npy\"))"
   ]
  },
  {
   "cell_type": "markdown",
   "metadata": {},
   "source": [
    "### View Self-Play Training Result<a name=step6b></a>"
   ]
  },
  {
   "cell_type": "markdown",
   "metadata": {},
   "source": [
    "**Self play Agent vs Q Agent**"
   ]
  },
  {
   "cell_type": "code",
   "execution_count": 18,
   "metadata": {
    "scrolled": false
   },
   "outputs": [
    {
     "name": "stdout",
     "output_type": "stream",
     "text": [
      "\n",
      "Done!\n"
     ]
    }
   ],
   "source": [
    "_, win_rate = trainer.play_and_train(\n",
    "    env, agent_selfplay, agent_q, n_games=10000, learn=False, verbose=False\n",
    ")"
   ]
  },
  {
   "cell_type": "code",
   "execution_count": 19,
   "metadata": {},
   "outputs": [
    {
     "name": "stdout",
     "output_type": "stream",
     "text": [
      "Self play Agent vs Q Agent win rate: 0.9999\n"
     ]
    }
   ],
   "source": [
    "print(f\"Self play Agent vs Q Agent win rate: {win_rate}\")"
   ]
  },
  {
   "cell_type": "markdown",
   "metadata": {},
   "source": [
    "#### Self play Agent vs ESarsa Agent"
   ]
  },
  {
   "cell_type": "code",
   "execution_count": 20,
   "metadata": {},
   "outputs": [
    {
     "name": "stdout",
     "output_type": "stream",
     "text": [
      "\n",
      "Done!\n"
     ]
    }
   ],
   "source": [
    "_, win_rate = trainer.play_and_train(\n",
    "    env, agent_selfplay, agent_ESarsa, n_games=10000, learn=False, verbose=False\n",
    ")"
   ]
  },
  {
   "cell_type": "code",
   "execution_count": 21,
   "metadata": {},
   "outputs": [
    {
     "name": "stdout",
     "output_type": "stream",
     "text": [
      "Self play Agent vs ESarsa Agent win rate: 1.0\n"
     ]
    }
   ],
   "source": [
    "print(f\"Self play Agent vs ESarsa Agent win rate: {win_rate}\")"
   ]
  },
  {
   "cell_type": "markdown",
   "metadata": {},
   "source": [
    "#### Self play Agent vs Random Agent"
   ]
  },
  {
   "cell_type": "code",
   "execution_count": 22,
   "metadata": {},
   "outputs": [
    {
     "name": "stdout",
     "output_type": "stream",
     "text": [
      "\n",
      "Done!\n"
     ]
    }
   ],
   "source": [
    "_, win_rate = trainer.play_and_train(\n",
    "    env, agent_selfplay, agent_random, n_games=10000, learn=False, verbose=False\n",
    ")"
   ]
  },
  {
   "cell_type": "code",
   "execution_count": 23,
   "metadata": {},
   "outputs": [
    {
     "name": "stdout",
     "output_type": "stream",
     "text": [
      "Self play Agent vs Random Agent win rate: 1.0\n"
     ]
    }
   ],
   "source": [
    "print(f\"Self play Agent vs Random Agent win rate: {win_rate}\")"
   ]
  },
  {
   "cell_type": "markdown",
   "metadata": {},
   "source": [
    "## 7. Learn Agent's Strategy<a name=step7></a>"
   ]
  },
  {
   "cell_type": "markdown",
   "metadata": {},
   "source": [
    "Is it possible to learn agent's winning strategy? Yes we can! We can definitely do that by making inferences from agent's q table.\n",
    "\n",
    "Here are two ways that I found:\n",
    " 1. Look at the q table and pick the action that has the highest value\n",
    " 2. Look at the losing state from the value function\n",
    " \n",
    "We will be implementing 2 since it much easier than 1."
   ]
  },
  {
   "cell_type": "markdown",
   "metadata": {},
   "source": [
    "### Value Function<a name=step7a></a>"
   ]
  },
  {
   "cell_type": "markdown",
   "metadata": {},
   "source": [
    "First, we need to get the value function for all states. The value function is the expected cumulative returns on a given state, so it represents the goodness of a state. For Q Agent, it can be calculated using the following equation:\n",
    "\n",
    "> $$V(s) = max_{a}Q(s, a), \\forall s \\in \\mathcal{S}^{+}$$\n",
    "\n",
    "Where $\\mathcal{S}^{+}$ is the set of all states including the ending/losing state. The equation only works for Q Agent since for each state it behaves greedily by taking the best action."
   ]
  },
  {
   "cell_type": "markdown",
   "metadata": {},
   "source": [
    "Here is the value function for self play agent:"
   ]
  },
  {
   "cell_type": "code",
   "execution_count": 24,
   "metadata": {},
   "outputs": [],
   "source": [
    "states = list(agent_selfplay._qvalues.keys())\n",
    "values = []\n",
    "for state in states:\n",
    "    values.append(round(agent_selfplay.get_value(state), 4))\n",
    "    \n",
    "value_of_states = pd.DataFrame({'State': states, 'Value': values})"
   ]
  },
  {
   "cell_type": "code",
   "execution_count": 25,
   "metadata": {},
   "outputs": [
    {
     "data": {
      "text/html": [
       "<div>\n",
       "<style scoped>\n",
       "    .dataframe tbody tr th:only-of-type {\n",
       "        vertical-align: middle;\n",
       "    }\n",
       "\n",
       "    .dataframe tbody tr th {\n",
       "        vertical-align: top;\n",
       "    }\n",
       "\n",
       "    .dataframe thead th {\n",
       "        text-align: right;\n",
       "    }\n",
       "</style>\n",
       "<table border=\"1\" class=\"dataframe\">\n",
       "  <thead>\n",
       "    <tr style=\"text-align: right;\">\n",
       "      <th></th>\n",
       "      <th>State</th>\n",
       "      <th>Value</th>\n",
       "    </tr>\n",
       "  </thead>\n",
       "  <tbody>\n",
       "    <tr>\n",
       "      <th>0</th>\n",
       "      <td>(7, 6, 5)</td>\n",
       "      <td>1.0</td>\n",
       "    </tr>\n",
       "    <tr>\n",
       "      <th>1</th>\n",
       "      <td>(0, 5, 5)</td>\n",
       "      <td>-1.0</td>\n",
       "    </tr>\n",
       "    <tr>\n",
       "      <th>2</th>\n",
       "      <td>(0, 3, 5)</td>\n",
       "      <td>1.0</td>\n",
       "    </tr>\n",
       "    <tr>\n",
       "      <th>3</th>\n",
       "      <td>(0, 1, 5)</td>\n",
       "      <td>1.0</td>\n",
       "    </tr>\n",
       "    <tr>\n",
       "      <th>4</th>\n",
       "      <td>(0, 0, 4)</td>\n",
       "      <td>1.0</td>\n",
       "    </tr>\n",
       "    <tr>\n",
       "      <th>...</th>\n",
       "      <td>...</td>\n",
       "      <td>...</td>\n",
       "    </tr>\n",
       "    <tr>\n",
       "      <th>9231</th>\n",
       "      <td>(20, 1, 18)</td>\n",
       "      <td>0.0</td>\n",
       "    </tr>\n",
       "    <tr>\n",
       "      <th>9232</th>\n",
       "      <td>(20, 1, 19)</td>\n",
       "      <td>0.0</td>\n",
       "    </tr>\n",
       "    <tr>\n",
       "      <th>9233</th>\n",
       "      <td>(18, 2, 20)</td>\n",
       "      <td>0.0</td>\n",
       "    </tr>\n",
       "    <tr>\n",
       "      <th>9234</th>\n",
       "      <td>(20, 2, 19)</td>\n",
       "      <td>0.0</td>\n",
       "    </tr>\n",
       "    <tr>\n",
       "      <th>9235</th>\n",
       "      <td>(20, 20, 2)</td>\n",
       "      <td>0.0</td>\n",
       "    </tr>\n",
       "  </tbody>\n",
       "</table>\n",
       "<p>9236 rows × 2 columns</p>\n",
       "</div>"
      ],
      "text/plain": [
       "            State  Value\n",
       "0       (7, 6, 5)    1.0\n",
       "1       (0, 5, 5)   -1.0\n",
       "2       (0, 3, 5)    1.0\n",
       "3       (0, 1, 5)    1.0\n",
       "4       (0, 0, 4)    1.0\n",
       "...           ...    ...\n",
       "9231  (20, 1, 18)    0.0\n",
       "9232  (20, 1, 19)    0.0\n",
       "9233  (18, 2, 20)    0.0\n",
       "9234  (20, 2, 19)    0.0\n",
       "9235  (20, 20, 2)    0.0\n",
       "\n",
       "[9236 rows x 2 columns]"
      ]
     },
     "execution_count": 25,
     "metadata": {},
     "output_type": "execute_result"
    }
   ],
   "source": [
    "value_of_states"
   ]
  },
  {
   "cell_type": "markdown",
   "metadata": {},
   "source": [
    "Now, the question is \"how do we know the losing states?\"\n",
    "\n",
    "Since we trained the agent using discount rate of 1 (undiscounted), we can easily find the losing states by looking at the state that has the value of -1. \n",
    "\n",
    "Also, there are many repetition of the state representation. For example, (0, 0, 1) is the same as (0, 1, 0) and (1, 0, 0) which are the losing states. The way to handle this problem is to sort them and removes duplicates."
   ]
  },
  {
   "cell_type": "code",
   "execution_count": 26,
   "metadata": {},
   "outputs": [],
   "source": [
    "# Helper function to sort the state\n",
    "def unified_state(state):\n",
    "    # Convert to list\n",
    "    state=list(state)\n",
    "    # Sort the state\n",
    "    state.sort()\n",
    "    # Convert back to tuple and return\n",
    "    return tuple(state)"
   ]
  },
  {
   "cell_type": "code",
   "execution_count": 27,
   "metadata": {
    "scrolled": true
   },
   "outputs": [],
   "source": [
    "# Sort state\n",
    "value_of_states[\"State\"] = value_of_states.apply(lambda row: unified_state(row[0]), axis=1)\n",
    "\n",
    "# Filter for value < -0.8 since some states might not have enough training samples\n",
    "value_of_states = value_of_states[value_of_states[\"Value\"] < -0.8]\n",
    "\n",
    "# Drop for duplicates\n",
    "value_of_states = value_of_states.drop_duplicates(subset=[\"State\"]).reset_index(drop=True)"
   ]
  },
  {
   "cell_type": "code",
   "execution_count": 32,
   "metadata": {},
   "outputs": [
    {
     "data": {
      "text/html": [
       "<div>\n",
       "<style scoped>\n",
       "    .dataframe tbody tr th:only-of-type {\n",
       "        vertical-align: middle;\n",
       "    }\n",
       "\n",
       "    .dataframe tbody tr th {\n",
       "        vertical-align: top;\n",
       "    }\n",
       "\n",
       "    .dataframe thead th {\n",
       "        text-align: right;\n",
       "    }\n",
       "</style>\n",
       "<table border=\"1\" class=\"dataframe\">\n",
       "  <thead>\n",
       "    <tr style=\"text-align: right;\">\n",
       "      <th></th>\n",
       "      <th>State</th>\n",
       "      <th>Value</th>\n",
       "    </tr>\n",
       "  </thead>\n",
       "  <tbody>\n",
       "    <tr>\n",
       "      <th>0</th>\n",
       "      <td>(0, 5, 5)</td>\n",
       "      <td>-1.0000</td>\n",
       "    </tr>\n",
       "    <tr>\n",
       "      <th>1</th>\n",
       "      <td>(0, 0, 1)</td>\n",
       "      <td>-1.0000</td>\n",
       "    </tr>\n",
       "    <tr>\n",
       "      <th>2</th>\n",
       "      <td>(3, 4, 7)</td>\n",
       "      <td>-1.0000</td>\n",
       "    </tr>\n",
       "    <tr>\n",
       "      <th>3</th>\n",
       "      <td>(0, 3, 3)</td>\n",
       "      <td>-1.0000</td>\n",
       "    </tr>\n",
       "    <tr>\n",
       "      <th>4</th>\n",
       "      <td>(5, 9, 12)</td>\n",
       "      <td>-0.9992</td>\n",
       "    </tr>\n",
       "    <tr>\n",
       "      <th>5</th>\n",
       "      <td>(4, 8, 12)</td>\n",
       "      <td>-1.0000</td>\n",
       "    </tr>\n",
       "    <tr>\n",
       "      <th>6</th>\n",
       "      <td>(0, 10, 10)</td>\n",
       "      <td>-1.0000</td>\n",
       "    </tr>\n",
       "    <tr>\n",
       "      <th>7</th>\n",
       "      <td>(1, 4, 5)</td>\n",
       "      <td>-1.0000</td>\n",
       "    </tr>\n",
       "    <tr>\n",
       "      <th>8</th>\n",
       "      <td>(0, 4, 4)</td>\n",
       "      <td>-1.0000</td>\n",
       "    </tr>\n",
       "    <tr>\n",
       "      <th>9</th>\n",
       "      <td>(6, 8, 14)</td>\n",
       "      <td>-0.9950</td>\n",
       "    </tr>\n",
       "  </tbody>\n",
       "</table>\n",
       "</div>"
      ],
      "text/plain": [
       "         State   Value\n",
       "0    (0, 5, 5) -1.0000\n",
       "1    (0, 0, 1) -1.0000\n",
       "2    (3, 4, 7) -1.0000\n",
       "3    (0, 3, 3) -1.0000\n",
       "4   (5, 9, 12) -0.9992\n",
       "5   (4, 8, 12) -1.0000\n",
       "6  (0, 10, 10) -1.0000\n",
       "7    (1, 4, 5) -1.0000\n",
       "8    (0, 4, 4) -1.0000\n",
       "9   (6, 8, 14) -0.9950"
      ]
     },
     "execution_count": 32,
     "metadata": {},
     "output_type": "execute_result"
    }
   ],
   "source": [
    "value_of_states.head(10)"
   ]
  },
  {
   "cell_type": "code",
   "execution_count": 29,
   "metadata": {},
   "outputs": [],
   "source": [
    "losing_states = value_of_states[\"State\"]"
   ]
  },
  {
   "cell_type": "markdown",
   "metadata": {},
   "source": [
    "### Losing States Analysis<a name=step7b></a>"
   ]
  },
  {
   "cell_type": "markdown",
   "metadata": {},
   "source": [
    "Here are the losing states: "
   ]
  },
  {
   "cell_type": "code",
   "execution_count": 30,
   "metadata": {
    "scrolled": false
   },
   "outputs": [
    {
     "data": {
      "text/plain": [
       "1       (0, 0, 1)\n",
       "12      (0, 2, 2)\n",
       "3       (0, 3, 3)\n",
       "8       (0, 4, 4)\n",
       "0       (0, 5, 5)\n",
       "18      (0, 6, 6)\n",
       "48      (0, 7, 7)\n",
       "43      (0, 8, 8)\n",
       "33      (0, 9, 9)\n",
       "6     (0, 10, 10)\n",
       "30    (0, 11, 11)\n",
       "35    (0, 12, 12)\n",
       "49    (0, 13, 13)\n",
       "47    (0, 14, 14)\n",
       "50    (0, 15, 15)\n",
       "51    (0, 16, 16)\n",
       "16    (0, 17, 17)\n",
       "20      (1, 1, 1)\n",
       "15      (1, 2, 3)\n",
       "7       (1, 4, 5)\n",
       "17      (1, 6, 7)\n",
       "19      (1, 8, 9)\n",
       "24    (1, 10, 11)\n",
       "41    (1, 12, 13)\n",
       "42    (1, 14, 15)\n",
       "53    (1, 16, 17)\n",
       "13      (2, 4, 6)\n",
       "29      (2, 5, 7)\n",
       "44     (2, 8, 10)\n",
       "22     (2, 9, 11)\n",
       "40    (2, 12, 14)\n",
       "52    (2, 13, 15)\n",
       "2       (3, 4, 7)\n",
       "36      (3, 5, 6)\n",
       "25     (3, 8, 11)\n",
       "32     (3, 9, 10)\n",
       "34    (3, 12, 15)\n",
       "45    (3, 13, 14)\n",
       "5      (4, 8, 12)\n",
       "31     (4, 9, 13)\n",
       "27    (4, 10, 14)\n",
       "26    (4, 11, 15)\n",
       "46     (5, 8, 13)\n",
       "4      (5, 9, 12)\n",
       "28    (5, 10, 15)\n",
       "14    (5, 11, 14)\n",
       "9      (6, 8, 14)\n",
       "21     (6, 9, 15)\n",
       "11    (6, 10, 12)\n",
       "39    (6, 11, 13)\n",
       "38     (7, 8, 15)\n",
       "37     (7, 9, 14)\n",
       "23    (7, 10, 13)\n",
       "10    (7, 11, 12)\n",
       "Name: State, dtype: object"
      ]
     },
     "execution_count": 30,
     "metadata": {},
     "output_type": "execute_result"
    }
   ],
   "source": [
    "losing_states.sort_values()"
   ]
  },
  {
   "cell_type": "markdown",
   "metadata": {},
   "source": [
    "#### Trivial States"
   ]
  },
  {
   "cell_type": "markdown",
   "metadata": {},
   "source": [
    " * The trivial losing state is $(0, 0, 1)$ since taking we must take the last chocolate.\n",
    " * The state $(1, 1, 1)$ is also a losing state because we can only take a chocolate on a chosen box. After taking one chocolate from any boxes, the opponent must take a chocolate in any boxes, and we are left with the state $(0, 0, 1)$."
   ]
  },
  {
   "cell_type": "markdown",
   "metadata": {},
   "source": [
    "#### Twin States"
   ]
  },
  {
   "cell_type": "markdown",
   "metadata": {},
   "source": [
    "Looking at the table, it seems the losing state has a form of $(0, n, n)$ where $n \\in \\mathbb{N}$. So we conclude that the other losing state is $(0, n, n), \\forall n \\in \\mathbb{N}\\setminus \\{1\\}$ which we call twin state. "
   ]
  },
  {
   "cell_type": "markdown",
   "metadata": {},
   "source": [
    "We can easily prove this:\n",
    "\n",
    "Base case $n = 2$:\n",
    "\n",
    "The current state is $(0, 2, 2)$. The distinct choice to make is taking 1 chocolate from box 2 or 3, or taking 2 chocolates from box 2 or 3.\n",
    " * Player takes 1 chocolate from box 2, the opponent will take 2 chocolates from box 3 and there's only one chocolate left.\n",
    " * Player takes 2 chocolates from box 2, the opponent will take 1 chocolate from box 1 and there's only one chocolate left.\n",
    "\n",
    "Without loss of generality, the opponent can also left us with one chocolate if we take chocolate from box 3.\n",
    "\n",
    "Suppose that $\\forall v \\le$ n and $v \\ge 2$, the state $(0, v, v)$ is a losing state. Consider the state $(0, n+1, n+1)$. The choices available are taking $c$ chocolates with $c \\in \\{1, 2, \\dots, n+1\\}$ in box 2 or 3. We separate them into three cases:\n",
    " * Player takes $c$ chocolates from box 2 with $c \\in \\{1, 2, \\dots, n-1\\}$. Then the opponent will also take $c$ chocolate. Our current state is $(0, n+1-c, n+1-c)$, from the hypothesis we know that this is a losing state.\n",
    " * Player takes $n$ chocolates from box 2. Then the opponent will take $n+1$ chocolates from box 3, leaving us with $(0, 1, 0)$ which is a trivial losing state.\n",
    " * Player takes $n+1$ chocolates from box 2. Then the opponent will take $n$ chocolates from box 3, leaving us with $(0, 0, 1)$ which is a trivial losing state.\n",
    "\n",
    "Without loss of generality, taking chocolate from box 3 will produce the same results.\n",
    "\n",
    "Therefore, the state $(0, n, n), \\forall n \\in \\mathbb{N} \\setminus \\{1\\}$ is a losing state."
   ]
  },
  {
   "cell_type": "markdown",
   "metadata": {},
   "source": [
    "#### Other Losing States"
   ]
  },
  {
   "cell_type": "markdown",
   "metadata": {},
   "source": [
    "The other losing states doesn't seems to have explicit formula, but one losing state is connected to the other losing state.\n",
    "\n",
    "For example, $(1, 4, 5)$.\n",
    " * If opponent pick 1 chocolate from box 1 or box 3: we can pick one chocolate to give twin state\n",
    " * If opponent pick (1, 2) chocolates from box 2 or (2, 3) chocolates from box 3: We can pick chocolate to force the losing state $(1, 2, 3)$\n",
    " * Otherwise, we can always make the trivial losing state: $(0, 0, 1)$ or $(1, 1, 1)$"
   ]
  },
  {
   "cell_type": "markdown",
   "metadata": {},
   "source": [
    "### Strategy Implementation"
   ]
  },
  {
   "cell_type": "markdown",
   "metadata": {},
   "source": [
    "To implement this strategy, we have to pick chocolates on a box so that the opponent state is any of the losing states"
   ]
  }
 ],
 "metadata": {
  "kernelspec": {
   "display_name": "Python 3",
   "language": "python",
   "name": "python3"
  },
  "language_info": {
   "codemirror_mode": {
    "name": "ipython",
    "version": 3
   },
   "file_extension": ".py",
   "mimetype": "text/x-python",
   "name": "python",
   "nbconvert_exporter": "python",
   "pygments_lexer": "ipython3",
   "version": "3.8.5"
  }
 },
 "nbformat": 4,
 "nbformat_minor": 4
}
