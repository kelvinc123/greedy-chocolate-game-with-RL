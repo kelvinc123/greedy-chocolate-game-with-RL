{
 "cells": [
  {
   "cell_type": "code",
   "execution_count": 1,
   "metadata": {},
   "outputs": [],
   "source": [
    "from environment import Environment"
   ]
  },
  {
   "cell_type": "code",
   "execution_count": 2,
   "metadata": {},
   "outputs": [
    {
     "name": "stdout",
     "output_type": "stream",
     "text": [
      "\n",
      "\n",
      "================================================================\n",
      "\n",
      "Welcome to greedy test game!\n",
      "\n",
      "\n",
      "People avoid taking the last chocolate because\n",
      "it's a sign of greediness.\n",
      "\n",
      "You can take any chocolates in a box\n",
      "(as long as it's sufficient).\n",
      "\n",
      "Just don't be the person to take the last chocolate!\n",
      "\n",
      "================================================================\n"
     ]
    }
   ],
   "source": [
    "SECTION = 3\n",
    "MAX_CHOCOLATE = 20\n",
    "MIN_CHOCOLATE = 3\n",
    "\n",
    "env = Environment(SECTION, MAX_CHOCOLATE=MAX_CHOCOLATE, MIN_CHOCOLATE=MIN_CHOCOLATE)"
   ]
  },
  {
   "cell_type": "code",
   "execution_count": null,
   "metadata": {},
   "outputs": [],
   "source": []
  }
 ],
 "metadata": {
  "kernelspec": {
   "display_name": "Python 3",
   "language": "python",
   "name": "python3"
  },
  "language_info": {
   "codemirror_mode": {
    "name": "ipython",
    "version": 3
   },
   "file_extension": ".py",
   "mimetype": "text/x-python",
   "name": "python",
   "nbconvert_exporter": "python",
   "pygments_lexer": "ipython3",
   "version": "3.8.5"
  }
 },
 "nbformat": 4,
 "nbformat_minor": 4
}
