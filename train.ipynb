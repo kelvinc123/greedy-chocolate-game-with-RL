{
 "cells": [
  {
   "cell_type": "code",
   "execution_count": 1,
   "metadata": {},
   "outputs": [],
   "source": [
    "from environment import Environment\n",
    "from collections import defaultdict\n",
    "from agent.base_agent import RandomAgent\n",
    "from agent.td_agent import QLearningAgent\n",
    "from agent.td_agent import ExpectedSarsaAgent\n",
    "from trainer import TwoPlayerGameTrainer\n",
    "import numpy as np\n",
    "import matplotlib.pyplot as plt\n",
    "import seaborn as sns\n",
    "import os"
   ]
  },
  {
   "cell_type": "code",
   "execution_count": 2,
   "metadata": {},
   "outputs": [],
   "source": [
    "# Game parameter\n",
    "SECTION = 3\n",
    "MAX_CHOCOLATE = 20\n",
    "MIN_CHOCOLATE = 3\n",
    "\n",
    "# Setting up the game environment and trainer\n",
    "env = Environment(SECTION=SECTION, MAX_CHOCOLATE=MAX_CHOCOLATE, MIN_CHOCOLATE=MIN_CHOCOLATE)\n",
    "trainer = TwoPlayerGameTrainer()"
   ]
  },
  {
   "cell_type": "code",
   "execution_count": 3,
   "metadata": {},
   "outputs": [],
   "source": [
    "agent1 = QLearningAgent(alpha=0.05, epsilon=0.4, discount=1)"
   ]
  },
  {
   "cell_type": "code",
   "execution_count": 4,
   "metadata": {
    "scrolled": false
   },
   "outputs": [
    {
     "name": "stdout",
     "output_type": "stream",
     "text": [
      "\n",
      "Iteration 0\n",
      "Running game: 20000\n",
      "Done!\n",
      "Winning rate: 0.74355\n",
      "\n",
      "Iteration 1\n",
      "Running game: 20000\n",
      "Done!\n",
      "Winning rate: 0.61675\n",
      "\n",
      "Iteration 2\n",
      "Running game: 20000\n",
      "Done!\n",
      "Winning rate: 0.5302\n",
      "\n",
      "Iteration 3\n",
      "Running game: 20000\n",
      "Done!\n",
      "Winning rate: 0.48705\n",
      "\n",
      "Iteration 4\n",
      "Running game: 20000\n",
      "Done!\n",
      "Winning rate: 0.4698\n",
      "\n",
      "Iteration 5\n",
      "Running game: 20000\n",
      "Done!\n",
      "Winning rate: 0.4037\n",
      "\n",
      "Iteration 6\n",
      "Running game: 20000\n",
      "Done!\n",
      "Winning rate: 0.3606\n",
      "\n",
      "Iteration 7\n",
      "Running game: 20000\n",
      "Done!\n",
      "Winning rate: 0.3407\n",
      "\n",
      "Iteration 8\n",
      "Running game: 20000\n",
      "Done!\n",
      "Winning rate: 0.30135\n",
      "\n",
      "Iteration 9\n",
      "Running game: 20000\n",
      "Done!\n",
      "Winning rate: 0.2722\n",
      "\n",
      "Iteration 10\n",
      "Running game: 20000\n",
      "Done!\n",
      "Winning rate: 0.2584\n",
      "\n",
      "Iteration 11\n",
      "Running game: 20000\n",
      "Done!\n",
      "Winning rate: 0.25755\n",
      "\n",
      "Iteration 12\n",
      "Running game: 20000\n",
      "Done!\n",
      "Winning rate: 0.2115\n",
      "\n",
      "Iteration 13\n",
      "Running game: 20000\n",
      "Done!\n",
      "Winning rate: 0.1791\n",
      "\n",
      "Iteration 14\n",
      "Running game: 20000\n",
      "Done!\n",
      "Winning rate: 0.19535\n",
      "\n",
      "Iteration 15\n",
      "Running game: 20000\n",
      "Done!\n",
      "Winning rate: 0.18745\n",
      "\n",
      "Iteration 16\n",
      "Running game: 20000\n",
      "Done!\n",
      "Winning rate: 0.1797\n",
      "\n",
      "Iteration 17\n",
      "Running game: 20000\n",
      "Done!\n",
      "Winning rate: 0.1668\n",
      "\n",
      "Iteration 18\n",
      "Running game: 20000\n",
      "Done!\n",
      "Winning rate: 0.15165\n",
      "\n",
      "Iteration 19\n",
      "Running game: 20000\n",
      "Done!\n",
      "Winning rate: 0.15575\n",
      "\n",
      "Iteration 20\n",
      "Running game: 20000\n",
      "Done!\n",
      "Winning rate: 0.1479\n",
      "\n",
      "Iteration 21\n",
      "Running game: 20000\n",
      "Done!\n",
      "Winning rate: 0.14425\n",
      "\n",
      "Iteration 22\n",
      "Running game: 20000\n",
      "Done!\n",
      "Winning rate: 0.1365\n",
      "\n",
      "Iteration 23\n",
      "Running game: 20000\n",
      "Done!\n",
      "Winning rate: 0.15275\n",
      "\n",
      "Iteration 24\n",
      "Running game: 20000\n",
      "Done!\n",
      "Winning rate: 0.1199\n",
      "\n",
      "Iteration 25\n",
      "Running game: 20000\n",
      "Done!\n",
      "Winning rate: 0.1149\n",
      "\n",
      "Iteration 26\n",
      "Running game: 20000\n",
      "Done!\n",
      "Winning rate: 0.1244\n",
      "\n",
      "Iteration 27\n",
      "Running game: 20000\n",
      "Done!\n",
      "Winning rate: 0.13035\n",
      "\n",
      "Iteration 28\n",
      "Running game: 20000\n",
      "Done!\n",
      "Winning rate: 0.12465\n",
      "\n",
      "Iteration 29\n",
      "Running game: 20000\n",
      "Done!\n",
      "Winning rate: 0.12135\n"
     ]
    }
   ],
   "source": [
    "agent1, win_rates = TwoPlayerGameTrainer.self_play(env, agent1, n_games=20000, iteration=30)"
   ]
  },
  {
   "cell_type": "code",
   "execution_count": 5,
   "metadata": {},
   "outputs": [],
   "source": [
    "agent1.save_model(os.path.join(\"model\", \"qagent_self_play_3_3_20.npy\"))"
   ]
  },
  {
   "cell_type": "code",
   "execution_count": 6,
   "metadata": {},
   "outputs": [],
   "source": [
    "# agent1 = QLearningAgent(0.05, 0.3, 1)\n",
    "# agent1.load_model(os.path.join(\"model\", \"qagent_self_play_3_3_20.npy\"))\n",
    "\n",
    "agent2 = QLearningAgent(0.05, 0.3, 1)\n",
    "agent2.load_model(os.path.join(\"model\", \"qagent_vs_qagent_3_3_20.npy\"))\n",
    "\n",
    "agent3 = QLearningAgent(0.05, 0.3, 1)\n",
    "agent3.load_model(os.path.join(\"model\", \"qagent_vs_random_3_3_20.npy\"))"
   ]
  },
  {
   "cell_type": "code",
   "execution_count": 7,
   "metadata": {
    "scrolled": false
   },
   "outputs": [
    {
     "name": "stdout",
     "output_type": "stream",
     "text": [
      "\n",
      "----------------------------------------------------------------\n",
      "\n",
      "\n",
      "Chocolate box:\n",
      "\n",
      "Box 1: 18\n",
      "Box 2: 16\n",
      "Box 3: 11\n",
      "\n",
      "Player 1: take 15 chocolates from box 1...\n",
      "\n",
      "----------------------------------------------------------------\n",
      "\n",
      "\n",
      "Chocolate box:\n",
      "\n",
      "Box 1: 3\n",
      "Box 2: 16\n",
      "Box 3: 11\n",
      "\n",
      "Player 2: take 1 chocolates from box 1...\n",
      "\n",
      "----------------------------------------------------------------\n",
      "\n",
      "\n",
      "Chocolate box:\n",
      "\n",
      "Box 1: 2\n",
      "Box 2: 16\n",
      "Box 3: 11\n",
      "\n",
      "Player 1: take 2 chocolates from box 2...\n",
      "\n",
      "----------------------------------------------------------------\n",
      "\n",
      "\n",
      "Chocolate box:\n",
      "\n",
      "Box 1: 2\n",
      "Box 2: 14\n",
      "Box 3: 11\n",
      "\n",
      "Player 2: take 1 chocolates from box 1...\n",
      "\n",
      "----------------------------------------------------------------\n",
      "\n",
      "\n",
      "Chocolate box:\n",
      "\n",
      "Box 1: 1\n",
      "Box 2: 14\n",
      "Box 3: 11\n",
      "\n",
      "Player 1: take 4 chocolates from box 2...\n",
      "\n",
      "----------------------------------------------------------------\n",
      "\n",
      "\n",
      "Chocolate box:\n",
      "\n",
      "Box 1: 1\n",
      "Box 2: 10\n",
      "Box 3: 11\n",
      "\n",
      "Player 2: take 10 chocolates from box 2...\n",
      "\n",
      "----------------------------------------------------------------\n",
      "\n",
      "\n",
      "Chocolate box:\n",
      "\n",
      "Box 1: 1\n",
      "Box 2: 0\n",
      "Box 3: 11\n",
      "\n",
      "Player 1: take 11 chocolates from box 3...\n",
      "\n",
      "----------------------------------------------------------------\n",
      "\n",
      "\n",
      "Chocolate box:\n",
      "\n",
      "Box 1: 1\n",
      "Box 2: 0\n",
      "Box 3: 0\n",
      "\n",
      "Player 2: take 1 chocolates from box 1...\n",
      "\n",
      "You take the last chocolate!\n",
      "Player 2 is greedy :(\n"
     ]
    }
   ],
   "source": [
    "trainer.play(env, agent1, agent2)"
   ]
  },
  {
   "cell_type": "code",
   "execution_count": null,
   "metadata": {},
   "outputs": [],
   "source": []
  },
  {
   "cell_type": "code",
   "execution_count": 8,
   "metadata": {},
   "outputs": [
    {
     "name": "stdout",
     "output_type": "stream",
     "text": [
      "Running game: 20000\n",
      "Done!\n"
     ]
    }
   ],
   "source": [
    "# Agent 1 (self_play) vs agent 2 (qagent_vs_qagent)\n",
    "history, n_win = trainer.play_and_train(env=env, agent1=agent1, agent2=agent2, n_games = 20000, learn=False)"
   ]
  },
  {
   "cell_type": "code",
   "execution_count": 9,
   "metadata": {},
   "outputs": [],
   "source": [
    "cum_history = np.cumsum(history)"
   ]
  },
  {
   "cell_type": "code",
   "execution_count": 10,
   "metadata": {},
   "outputs": [
    {
     "data": {
      "image/png": "[encoded data removed]",
      "text/plain": [
       "<Figure size 640x480 with 1 Axes>"
      ]
     },
     "metadata": {},
     "output_type": "display_data"
    }
   ],
   "source": [
    "plt.plot(cum_history)\n",
    "plt.show()"
   ]
  },
  {
   "cell_type": "code",
   "execution_count": 11,
   "metadata": {},
   "outputs": [
    {
     "name": "stderr",
     "output_type": "stream",
     "text": [
      "/Users/kelvinchristian/opt/anaconda3/lib/python3.8/site-packages/seaborn/_decorators.py:36: FutureWarning: Pass the following variable as a keyword arg: x. From version 0.12, the only valid positional argument will be `data`, and passing other arguments without an explicit keyword will result in an error or misinterpretation.\n",
      "  warnings.warn(\n"
     ]
    },
    {
     "data": {
      "image/png": "[encoded data removed]",
      "text/plain": [
       "<Figure size 640x480 with 1 Axes>"
      ]
     },
     "metadata": {},
     "output_type": "display_data"
    }
   ],
   "source": [
    "sns.countplot(history)\n",
    "plt.show()"
   ]
  },
  {
   "cell_type": "code",
   "execution_count": 12,
   "metadata": {},
   "outputs": [
    {
     "name": "stdout",
     "output_type": "stream",
     "text": [
      "Winning rate: 0.8906\n"
     ]
    }
   ],
   "source": [
    "print(f\"Winning rate: {n_win}\")"
   ]
  },
  {
   "cell_type": "code",
   "execution_count": null,
   "metadata": {},
   "outputs": [],
   "source": []
  }
 ],
 "metadata": {
  "kernelspec": {
   "display_name": "Python 3",
   "language": "python",
   "name": "python3"
  },
  "language_info": {
   "codemirror_mode": {
    "name": "ipython",
    "version": 3
   },
   "file_extension": ".py",
   "mimetype": "text/x-python",
   "name": "python",
   "nbconvert_exporter": "python",
   "pygments_lexer": "ipython3",
   "version": "3.8.5"
  }
 },
 "nbformat": 4,
 "nbformat_minor": 4
}
